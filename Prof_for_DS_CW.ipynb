{
 "cells": [
  {
   "cell_type": "markdown",
   "id": "5bdb5c43",
   "metadata": {},
   "source": [
    "# Analysis of condtions present in patients who suffered from Heart Failure"
   ]
  },
  {
   "cell_type": "markdown",
   "id": "9e11f1f1",
   "metadata": {},
   "source": [
    "  "
   ]
  },
  {
   "cell_type": "markdown",
   "id": "9b7b84ba",
   "metadata": {},
   "source": [
    "Jai Prathap Gomathi Veerakumar(mm21jpgv@leeds.ac.uk)\n",
    "\n",
    "Viswavaageesh Chandarmouli(mm21vc@leeds.ac.uk)\n",
    "\n",
    "Supriya Nallan Chakravarthula(mm21snc@leeds.ac.uk)\n"
   ]
  },
  {
   "cell_type": "markdown",
   "id": "5690e8f0",
   "metadata": {},
   "source": [
    "  "
   ]
  },
  {
   "cell_type": "markdown",
   "id": "0c247b8f",
   "metadata": {},
   "source": [
    "## Project Plan\n",
    "\n",
    "\n"
   ]
  },
  {
   "cell_type": "markdown",
   "id": "6dfb4a5d",
   "metadata": {},
   "source": [
    "## The Data (10 marks)"
   ]
  },
  {
   "cell_type": "markdown",
   "id": "b07872f0",
   "metadata": {},
   "source": [
    "\n",
    "The data is originally from Faisalabad Institute of Cardiology and at the Allied Hospital in Faisalabad (Punjab, Pakistan), during April–December 2015 and is sourced from Kaggle (https://www.kaggle.com/andrewmvd/heart-failure-clinical-data) which is an open-source data platform. The data contains annonymised clinical information of patients who have suffered from heart failure. The variables present in the dataset are explained with respect to their respective data type:\n",
    "\n",
    "\n",
    "1. age (float) :                                                                                                                       age of patients who suffered from                                                                                     Heart failure                          \n",
    "2. anaemia (categorical-binary):           a value of  '1' indicates the patient                                                                                      is anaemic(i.e has a low red blood                                                                                      cell count) and '0' indicates otherwise\n",
    "\n",
    "3. creatinine_phosphokinase (int): levels of CPK enzyme( a protien which is present in the heart) in mcg/L (microgram per litre). Higher levels usually indicatae stress to the heart. \n",
    "\n",
    "4.  diabetes (categorical-binary):   a value of  '1' indicates the patient                                                                                      is has diabetes and '0' indicates otherwise\n",
    "\n",
    "5. ejection_fraction (int): tells us the percentage of blood the heart pumps at each contraction(usually less than 70%)\n",
    "\n",
    "6. high_blood_pressure(Categorical-binary): a value of  '1' indicates the patient has high BP and '0' indicates otherwise\n",
    "\n",
    "7. platelets (int): count of platelets in the blood (kiloplatelets/mL)\n",
    "\n",
    "8. serum_creatinine (int): amount of creatine in the blood stream(mg/dL). Higher levels signal poor kidney function. Normal range is between 0.6 and 1.3 mg/dL\n",
    "\n",
    "9. serum_sodium (int):  sodium levels(mEq/L) in the blood stream             \n",
    "\n",
    "10. sex (categorical-binary): '0' indicates female and '1' indicates male                     \n",
    "\n",
    "11. smoking (categorical-binary): '0' indicate 'non-smokers' and '1' indicates 'smokers'      \n",
    "\n",
    "12. DEATH_EVENT (categorical-binary):encodes whether the patient died (1) or whether they were censored (0). Censoring means that the scientists lost contact with the patient"
   ]
  },
  {
   "cell_type": "markdown",
   "id": "cc7965b7",
   "metadata": {},
   "source": [
    "    "
   ]
  },
  {
   "cell_type": "markdown",
   "id": "944678a3",
   "metadata": {},
   "source": [
    "## Project Aim and Objectives (5 marks)"
   ]
  },
  {
   "cell_type": "markdown",
   "id": "0e1c35d2",
   "metadata": {},
   "source": [
    "This project aims to analyse the deaths caused by heart failure and the medical conditions associated with it. Heart failure is a common cause of death worldwide. It is usually because of the heart's inefficiency to pump sufficient blood into the bloodstream for the body to function normally. Heart failure does not necessarily cause deaths. But in the company of other existing conditions such as high blood pressure and anaemia, increased creatine and sodium levels in the bloodstream,  abnormal platelet count and ejection fraction, and existing habits like smoking, it may be fatal. It is unclear which one (or) combination of these conditions cause death to a patient who has had heart failure. Although these conditions may be thwarted by having a healthy diet, there are uncontrollable factors such as age and gender of a person which may have an effect. \n",
    "\n",
    "This project aims to address three common questions that arise regarding deaths caused by heart failure.   \n",
    "\n"
   ]
  },
  {
   "cell_type": "markdown",
   "id": "49635f1b",
   "metadata": {},
   "source": [
    "Objective 1: Does gender play a role in the deaths caused by heart failure?\n",
    "It is unclear whether a person's 'sex' makes them more/less susceptible to death by heart failure. This objective aims to exhume the truth behind this. \n",
    "\n",
    "Objective 2: What condition was most prevalent in women who died of heart failure?  \n",
    "his objective aims to uncover some common underlying conditions in women who had died from heart failure. It is vital to know these conditions as it makes women aware of the danger caused by these conditions and helps them take steps to prevent them. \n",
    " \n",
    "Objective 3: Does smoking have an effect on deaths caused by heart failure?\n",
    "Don't we all want to know this? We all know smoking is the cause of several diseases but this objective is to address all rumours going around accusing smoking as key to deaths. Is this true?\n",
    "\n",
    "Let's find out!"
   ]
  },
  {
   "cell_type": "markdown",
   "id": "5a682140",
   "metadata": {},
   "source": [
    "  "
   ]
  },
  {
   "cell_type": "markdown",
   "id": "705c796e",
   "metadata": {},
   "source": [
    "## System Design (5 marks)"
   ]
  },
  {
   "cell_type": "markdown",
   "id": "38588fbb",
   "metadata": {},
   "source": [
    "### Architecture"
   ]
  },
  {
   "attachments": {
    "architecture-3.PNG": {
     "image/png": "[encoded data removed]"
    }
   },
   "cell_type": "markdown",
   "id": "8ad1b8d3",
   "metadata": {},
   "source": [
    "![architecture-3.PNG](attachment:architecture-3.PNG)"
   ]
  },
  {
   "cell_type": "markdown",
   "id": "a96e807a",
   "metadata": {},
   "source": [
    "Data of patients who have had heart failure is obtained from Kaggle(an open-source platform) as CSV (comma-separated values). The second step is data preprocessing: the CSV file is transformed into a structured data frame using the pandas( a library in python). The data is checked for missing values, ambiguous variables and possible outliers identified through comparisons with results published in medical journals and articles. This cleaned data is then ready for analysis. The data is now analysed carefully in search of answers to the objectives we have created. To effectively communicate the findings, the obtained results are visualised through python visualisation libraries in Seaborn and Matplotlib. "
   ]
  },
  {
   "cell_type": "markdown",
   "id": "8fefad5f",
   "metadata": {},
   "source": [
    "### Processing Modules and Algorithms"
   ]
  },
  {
   "cell_type": "markdown",
   "id": "ae0e0e0b",
   "metadata": {},
   "source": [
    "1. Removing Outliers based on Inter-quantile range and through comparison of variable values with medical papers. \n",
    "2. Finding correlation of each variable with death\n",
    "4. Splitting and creatiag new data frames from existing dataframes   \n",
    "3. Exploratory Data analysis "
   ]
  },
  {
   "cell_type": "markdown",
   "id": "0426127c",
   "metadata": {},
   "source": [
    "  "
   ]
  },
  {
   "cell_type": "markdown",
   "id": "746e40da",
   "metadata": {},
   "source": [
    "## Program Code (15 marks)"
   ]
  },
  {
   "cell_type": "code",
   "execution_count": 51,
   "id": "35eb2ba2",
   "metadata": {},
   "outputs": [],
   "source": [
    "# importing all the necessary packages that will be used in the analysis\n",
    "\n",
    "import pandas as pd\n",
    "import numpy as np\n",
    "import matplotlib.pyplot as plt\n",
    "%matplotlib inline\n",
    "import seaborn as sns"
   ]
  },
  {
   "cell_type": "code",
   "execution_count": 52,
   "id": "5c920626",
   "metadata": {},
   "outputs": [],
   "source": [
    "# reading the data into a data frame\n",
    "df=pd.read_csv('heart_failure_clinical_records_dataset.csv')"
   ]
  },
  {
   "cell_type": "code",
   "execution_count": 53,
   "id": "9ed1b439",
   "metadata": {},
   "outputs": [
    {
     "data": {
      "text/html": [
       "<div>\n",
       "<style scoped>\n",
       "    .dataframe tbody tr th:only-of-type {\n",
       "        vertical-align: middle;\n",
       "    }\n",
       "\n",
       "    .dataframe tbody tr th {\n",
       "        vertical-align: top;\n",
       "    }\n",
       "\n",
       "    .dataframe thead th {\n",
       "        text-align: right;\n",
       "    }\n",
       "</style>\n",
       "<table border=\"1\" class=\"dataframe\">\n",
       "  <thead>\n",
       "    <tr style=\"text-align: right;\">\n",
       "      <th></th>\n",
       "      <th>age</th>\n",
       "      <th>anaemia</th>\n",
       "      <th>creatinine_phosphokinase</th>\n",
       "      <th>diabetes</th>\n",
       "      <th>ejection_fraction</th>\n",
       "      <th>high_blood_pressure</th>\n",
       "      <th>platelets</th>\n",
       "      <th>serum_creatinine</th>\n",
       "      <th>serum_sodium</th>\n",
       "      <th>sex</th>\n",
       "      <th>smoking</th>\n",
       "      <th>time</th>\n",
       "      <th>DEATH_EVENT</th>\n",
       "    </tr>\n",
       "  </thead>\n",
       "  <tbody>\n",
       "    <tr>\n",
       "      <th>0</th>\n",
       "      <td>75.0</td>\n",
       "      <td>0</td>\n",
       "      <td>582</td>\n",
       "      <td>0</td>\n",
       "      <td>20</td>\n",
       "      <td>1</td>\n",
       "      <td>265000.00</td>\n",
       "      <td>1.9</td>\n",
       "      <td>130</td>\n",
       "      <td>1</td>\n",
       "      <td>0</td>\n",
       "      <td>4</td>\n",
       "      <td>1</td>\n",
       "    </tr>\n",
       "    <tr>\n",
       "      <th>1</th>\n",
       "      <td>55.0</td>\n",
       "      <td>0</td>\n",
       "      <td>7861</td>\n",
       "      <td>0</td>\n",
       "      <td>38</td>\n",
       "      <td>0</td>\n",
       "      <td>263358.03</td>\n",
       "      <td>1.1</td>\n",
       "      <td>136</td>\n",
       "      <td>1</td>\n",
       "      <td>0</td>\n",
       "      <td>6</td>\n",
       "      <td>1</td>\n",
       "    </tr>\n",
       "    <tr>\n",
       "      <th>2</th>\n",
       "      <td>65.0</td>\n",
       "      <td>0</td>\n",
       "      <td>146</td>\n",
       "      <td>0</td>\n",
       "      <td>20</td>\n",
       "      <td>0</td>\n",
       "      <td>162000.00</td>\n",
       "      <td>1.3</td>\n",
       "      <td>129</td>\n",
       "      <td>1</td>\n",
       "      <td>1</td>\n",
       "      <td>7</td>\n",
       "      <td>1</td>\n",
       "    </tr>\n",
       "    <tr>\n",
       "      <th>3</th>\n",
       "      <td>50.0</td>\n",
       "      <td>1</td>\n",
       "      <td>111</td>\n",
       "      <td>0</td>\n",
       "      <td>20</td>\n",
       "      <td>0</td>\n",
       "      <td>210000.00</td>\n",
       "      <td>1.9</td>\n",
       "      <td>137</td>\n",
       "      <td>1</td>\n",
       "      <td>0</td>\n",
       "      <td>7</td>\n",
       "      <td>1</td>\n",
       "    </tr>\n",
       "    <tr>\n",
       "      <th>4</th>\n",
       "      <td>65.0</td>\n",
       "      <td>1</td>\n",
       "      <td>160</td>\n",
       "      <td>1</td>\n",
       "      <td>20</td>\n",
       "      <td>0</td>\n",
       "      <td>327000.00</td>\n",
       "      <td>2.7</td>\n",
       "      <td>116</td>\n",
       "      <td>0</td>\n",
       "      <td>0</td>\n",
       "      <td>8</td>\n",
       "      <td>1</td>\n",
       "    </tr>\n",
       "  </tbody>\n",
       "</table>\n",
       "</div>"
      ],
      "text/plain": [
       "    age  anaemia  creatinine_phosphokinase  diabetes  ejection_fraction  \\\n",
       "0  75.0        0                       582         0                 20   \n",
       "1  55.0        0                      7861         0                 38   \n",
       "2  65.0        0                       146         0                 20   \n",
       "3  50.0        1                       111         0                 20   \n",
       "4  65.0        1                       160         1                 20   \n",
       "\n",
       "   high_blood_pressure  platelets  serum_creatinine  serum_sodium  sex  \\\n",
       "0                    1  265000.00               1.9           130    1   \n",
       "1                    0  263358.03               1.1           136    1   \n",
       "2                    0  162000.00               1.3           129    1   \n",
       "3                    0  210000.00               1.9           137    1   \n",
       "4                    0  327000.00               2.7           116    0   \n",
       "\n",
       "   smoking  time  DEATH_EVENT  \n",
       "0        0     4            1  \n",
       "1        0     6            1  \n",
       "2        1     7            1  \n",
       "3        0     7            1  \n",
       "4        0     8            1  "
      ]
     },
     "execution_count": 53,
     "metadata": {},
     "output_type": "execute_result"
    }
   ],
   "source": [
    "# looking at the dataframe's head\n",
    "df.head()"
   ]
  },
  {
   "cell_type": "markdown",
   "id": "6af25b56",
   "metadata": {},
   "source": [
    "Not enough information is provided about the variable 'Time'. To avoid ambiguity, it is removed.  "
   ]
  },
  {
   "cell_type": "code",
   "execution_count": 54,
   "id": "a809c965",
   "metadata": {},
   "outputs": [],
   "source": [
    "# column time is removed from the dataframe\n",
    "df.drop('time',axis=1, inplace=True)"
   ]
  },
  {
   "cell_type": "code",
   "execution_count": 55,
   "id": "87009990",
   "metadata": {},
   "outputs": [
    {
     "name": "stdout",
     "output_type": "stream",
     "text": [
      "<class 'pandas.core.frame.DataFrame'>\n",
      "RangeIndex: 299 entries, 0 to 298\n",
      "Data columns (total 12 columns):\n",
      " #   Column                    Non-Null Count  Dtype  \n",
      "---  ------                    --------------  -----  \n",
      " 0   age                       299 non-null    float64\n",
      " 1   anaemia                   299 non-null    int64  \n",
      " 2   creatinine_phosphokinase  299 non-null    int64  \n",
      " 3   diabetes                  299 non-null    int64  \n",
      " 4   ejection_fraction         299 non-null    int64  \n",
      " 5   high_blood_pressure       299 non-null    int64  \n",
      " 6   platelets                 299 non-null    float64\n",
      " 7   serum_creatinine          299 non-null    float64\n",
      " 8   serum_sodium              299 non-null    int64  \n",
      " 9   sex                       299 non-null    int64  \n",
      " 10  smoking                   299 non-null    int64  \n",
      " 11  DEATH_EVENT               299 non-null    int64  \n",
      "dtypes: float64(3), int64(9)\n",
      "memory usage: 28.2 KB\n"
     ]
    }
   ],
   "source": [
    "# Code to check if the data types of variabels \n",
    "df.info()"
   ]
  },
  {
   "cell_type": "code",
   "execution_count": 56,
   "id": "1d475b66",
   "metadata": {
    "scrolled": false
   },
   "outputs": [
    {
     "data": {
      "text/plain": [
       "age                         0\n",
       "anaemia                     0\n",
       "creatinine_phosphokinase    0\n",
       "diabetes                    0\n",
       "ejection_fraction           0\n",
       "high_blood_pressure         0\n",
       "platelets                   0\n",
       "serum_creatinine            0\n",
       "serum_sodium                0\n",
       "sex                         0\n",
       "smoking                     0\n",
       "DEATH_EVENT                 0\n",
       "dtype: int64"
      ]
     },
     "execution_count": 56,
     "metadata": {},
     "output_type": "execute_result"
    }
   ],
   "source": [
    "# Finding the sum of all NaN values in columns check for missing values\n",
    "df.isna().sum()"
   ]
  },
  {
   "cell_type": "markdown",
   "id": "6c06e9a4",
   "metadata": {},
   "source": [
    "There are no Null values, we are good to go. "
   ]
  },
  {
   "cell_type": "code",
   "execution_count": 57,
   "id": "90606aac",
   "metadata": {
    "scrolled": false
   },
   "outputs": [
    {
     "data": {
      "text/html": [
       "<div>\n",
       "<style scoped>\n",
       "    .dataframe tbody tr th:only-of-type {\n",
       "        vertical-align: middle;\n",
       "    }\n",
       "\n",
       "    .dataframe tbody tr th {\n",
       "        vertical-align: top;\n",
       "    }\n",
       "\n",
       "    .dataframe thead th {\n",
       "        text-align: right;\n",
       "    }\n",
       "</style>\n",
       "<table border=\"1\" class=\"dataframe\">\n",
       "  <thead>\n",
       "    <tr style=\"text-align: right;\">\n",
       "      <th></th>\n",
       "      <th>age</th>\n",
       "      <th>anaemia</th>\n",
       "      <th>creatinine_phosphokinase</th>\n",
       "      <th>diabetes</th>\n",
       "      <th>ejection_fraction</th>\n",
       "      <th>high_blood_pressure</th>\n",
       "      <th>platelets</th>\n",
       "      <th>serum_creatinine</th>\n",
       "      <th>serum_sodium</th>\n",
       "      <th>sex</th>\n",
       "      <th>smoking</th>\n",
       "      <th>DEATH_EVENT</th>\n",
       "    </tr>\n",
       "  </thead>\n",
       "  <tbody>\n",
       "    <tr>\n",
       "      <th>count</th>\n",
       "      <td>299.000000</td>\n",
       "      <td>299.000000</td>\n",
       "      <td>299.000000</td>\n",
       "      <td>299.000000</td>\n",
       "      <td>299.000000</td>\n",
       "      <td>299.000000</td>\n",
       "      <td>299.000000</td>\n",
       "      <td>299.00000</td>\n",
       "      <td>299.000000</td>\n",
       "      <td>299.000000</td>\n",
       "      <td>299.00000</td>\n",
       "      <td>299.00000</td>\n",
       "    </tr>\n",
       "    <tr>\n",
       "      <th>mean</th>\n",
       "      <td>60.833893</td>\n",
       "      <td>0.431438</td>\n",
       "      <td>581.839465</td>\n",
       "      <td>0.418060</td>\n",
       "      <td>38.083612</td>\n",
       "      <td>0.351171</td>\n",
       "      <td>263358.029264</td>\n",
       "      <td>1.39388</td>\n",
       "      <td>136.625418</td>\n",
       "      <td>0.648829</td>\n",
       "      <td>0.32107</td>\n",
       "      <td>0.32107</td>\n",
       "    </tr>\n",
       "    <tr>\n",
       "      <th>std</th>\n",
       "      <td>11.894809</td>\n",
       "      <td>0.496107</td>\n",
       "      <td>970.287881</td>\n",
       "      <td>0.494067</td>\n",
       "      <td>11.834841</td>\n",
       "      <td>0.478136</td>\n",
       "      <td>97804.236869</td>\n",
       "      <td>1.03451</td>\n",
       "      <td>4.412477</td>\n",
       "      <td>0.478136</td>\n",
       "      <td>0.46767</td>\n",
       "      <td>0.46767</td>\n",
       "    </tr>\n",
       "    <tr>\n",
       "      <th>min</th>\n",
       "      <td>40.000000</td>\n",
       "      <td>0.000000</td>\n",
       "      <td>23.000000</td>\n",
       "      <td>0.000000</td>\n",
       "      <td>14.000000</td>\n",
       "      <td>0.000000</td>\n",
       "      <td>25100.000000</td>\n",
       "      <td>0.50000</td>\n",
       "      <td>113.000000</td>\n",
       "      <td>0.000000</td>\n",
       "      <td>0.00000</td>\n",
       "      <td>0.00000</td>\n",
       "    </tr>\n",
       "    <tr>\n",
       "      <th>25%</th>\n",
       "      <td>51.000000</td>\n",
       "      <td>0.000000</td>\n",
       "      <td>116.500000</td>\n",
       "      <td>0.000000</td>\n",
       "      <td>30.000000</td>\n",
       "      <td>0.000000</td>\n",
       "      <td>212500.000000</td>\n",
       "      <td>0.90000</td>\n",
       "      <td>134.000000</td>\n",
       "      <td>0.000000</td>\n",
       "      <td>0.00000</td>\n",
       "      <td>0.00000</td>\n",
       "    </tr>\n",
       "    <tr>\n",
       "      <th>50%</th>\n",
       "      <td>60.000000</td>\n",
       "      <td>0.000000</td>\n",
       "      <td>250.000000</td>\n",
       "      <td>0.000000</td>\n",
       "      <td>38.000000</td>\n",
       "      <td>0.000000</td>\n",
       "      <td>262000.000000</td>\n",
       "      <td>1.10000</td>\n",
       "      <td>137.000000</td>\n",
       "      <td>1.000000</td>\n",
       "      <td>0.00000</td>\n",
       "      <td>0.00000</td>\n",
       "    </tr>\n",
       "    <tr>\n",
       "      <th>75%</th>\n",
       "      <td>70.000000</td>\n",
       "      <td>1.000000</td>\n",
       "      <td>582.000000</td>\n",
       "      <td>1.000000</td>\n",
       "      <td>45.000000</td>\n",
       "      <td>1.000000</td>\n",
       "      <td>303500.000000</td>\n",
       "      <td>1.40000</td>\n",
       "      <td>140.000000</td>\n",
       "      <td>1.000000</td>\n",
       "      <td>1.00000</td>\n",
       "      <td>1.00000</td>\n",
       "    </tr>\n",
       "    <tr>\n",
       "      <th>max</th>\n",
       "      <td>95.000000</td>\n",
       "      <td>1.000000</td>\n",
       "      <td>7861.000000</td>\n",
       "      <td>1.000000</td>\n",
       "      <td>80.000000</td>\n",
       "      <td>1.000000</td>\n",
       "      <td>850000.000000</td>\n",
       "      <td>9.40000</td>\n",
       "      <td>148.000000</td>\n",
       "      <td>1.000000</td>\n",
       "      <td>1.00000</td>\n",
       "      <td>1.00000</td>\n",
       "    </tr>\n",
       "  </tbody>\n",
       "</table>\n",
       "</div>"
      ],
      "text/plain": [
       "              age     anaemia  creatinine_phosphokinase    diabetes  \\\n",
       "count  299.000000  299.000000                299.000000  299.000000   \n",
       "mean    60.833893    0.431438                581.839465    0.418060   \n",
       "std     11.894809    0.496107                970.287881    0.494067   \n",
       "min     40.000000    0.000000                 23.000000    0.000000   \n",
       "25%     51.000000    0.000000                116.500000    0.000000   \n",
       "50%     60.000000    0.000000                250.000000    0.000000   \n",
       "75%     70.000000    1.000000                582.000000    1.000000   \n",
       "max     95.000000    1.000000               7861.000000    1.000000   \n",
       "\n",
       "       ejection_fraction  high_blood_pressure      platelets  \\\n",
       "count         299.000000           299.000000     299.000000   \n",
       "mean           38.083612             0.351171  263358.029264   \n",
       "std            11.834841             0.478136   97804.236869   \n",
       "min            14.000000             0.000000   25100.000000   \n",
       "25%            30.000000             0.000000  212500.000000   \n",
       "50%            38.000000             0.000000  262000.000000   \n",
       "75%            45.000000             1.000000  303500.000000   \n",
       "max            80.000000             1.000000  850000.000000   \n",
       "\n",
       "       serum_creatinine  serum_sodium         sex    smoking  DEATH_EVENT  \n",
       "count         299.00000    299.000000  299.000000  299.00000    299.00000  \n",
       "mean            1.39388    136.625418    0.648829    0.32107      0.32107  \n",
       "std             1.03451      4.412477    0.478136    0.46767      0.46767  \n",
       "min             0.50000    113.000000    0.000000    0.00000      0.00000  \n",
       "25%             0.90000    134.000000    0.000000    0.00000      0.00000  \n",
       "50%             1.10000    137.000000    1.000000    0.00000      0.00000  \n",
       "75%             1.40000    140.000000    1.000000    1.00000      1.00000  \n",
       "max             9.40000    148.000000    1.000000    1.00000      1.00000  "
      ]
     },
     "execution_count": 57,
     "metadata": {},
     "output_type": "execute_result"
    }
   ],
   "source": [
    "# Checking the distribution of each varible to evaluate further for possibe outliers\n",
    "df.describe()"
   ]
  },
  {
   "cell_type": "markdown",
   "id": "63798321",
   "metadata": {},
   "source": [
    "Creatinine phosphokinase, Ejection fraction, Serum_creatinine and Platelets seem to have a lot of outliers given the differnce betweeen\n",
    "maximum value and the 75th percentile value of the variable. "
   ]
  },
  {
   "cell_type": "markdown",
   "id": "7a95c967",
   "metadata": {},
   "source": [
    "  "
   ]
  },
  {
   "cell_type": "markdown",
   "id": "c509876a",
   "metadata": {},
   "source": [
    "It is now time to look how each variable is divided to check for outliers"
   ]
  },
  {
   "cell_type": "markdown",
   "id": "926b42af",
   "metadata": {},
   "source": [
    "## Removing Outliers"
   ]
  },
  {
   "cell_type": "markdown",
   "id": "a266a960",
   "metadata": {},
   "source": [
    "### Let us start with Serum Creatinine"
   ]
  },
  {
   "cell_type": "code",
   "execution_count": 58,
   "id": "89ca2a46",
   "metadata": {
    "scrolled": true
   },
   "outputs": [
    {
     "data": {
      "text/plain": [
       "<AxesSubplot:xlabel='DEATH_EVENT', ylabel='serum_creatinine'>"
      ]
     },
     "execution_count": 58,
     "metadata": {},
     "output_type": "execute_result"
    },
    {
     "data": {
      "image/png": "[encoded data removed]",
      "text/plain": [
       "<Figure size 288x576 with 1 Axes>"
      ]
     },
     "metadata": {
      "needs_background": "light"
     },
     "output_type": "display_data"
    }
   ],
   "source": [
    "# Plotting a Box plot of the levels of Serum Creatinine between people who were censored and those died from heart filure\n",
    "\n",
    "plt.figure(figsize=(4,8))\n",
    "sns.boxplot(data=df, x='DEATH_EVENT', y='serum_creatinine')"
   ]
  },
  {
   "cell_type": "markdown",
   "id": "d4a1bd16",
   "metadata": {},
   "source": [
    "The normal range of serum ceratine accourding to https://doi.org/10.1100/2012/186495 is between  0.6 and 1.3 mg/dL. "
   ]
  },
  {
   "cell_type": "markdown",
   "id": "1b637c60",
   "metadata": {},
   "source": [
    "The box plot shows a lot of outliers in Serum Creatinine. Let us remove all those values above 90% and more than 1.5 times the 75th percentile. "
   ]
  },
  {
   "cell_type": "markdown",
   "id": "ffe851da",
   "metadata": {},
   "source": [
    "serum_creatinine levels are higher for those who die from Heart Failure"
   ]
  },
  {
   "cell_type": "code",
   "execution_count": 59,
   "id": "2b024832",
   "metadata": {
    "scrolled": true
   },
   "outputs": [
    {
     "data": {
      "text/plain": [
       "2.1"
      ]
     },
     "execution_count": 59,
     "metadata": {},
     "output_type": "execute_result"
    }
   ],
   "source": [
    "# Code to get the 90th percentile value of Serum Creatinine\n",
    "\n",
    "np.percentile(df['serum_creatinine'],90)"
   ]
  },
  {
   "cell_type": "code",
   "execution_count": 60,
   "id": "4175792f",
   "metadata": {},
   "outputs": [
    {
     "data": {
      "text/plain": [
       "2.0999999999999996"
      ]
     },
     "execution_count": 60,
     "metadata": {},
     "output_type": "execute_result"
    }
   ],
   "source": [
    "# Outliers are value of Serum Creatinine above 1.5 times the 75th percentile value of Serum Creatinine\n",
    "# This Code outputs 1.5* 75th percentile value of Serum Creatinine\n",
    "\n",
    "1.5*np.percentile(df['serum_creatinine'],75)"
   ]
  },
  {
   "cell_type": "markdown",
   "id": "7810f975",
   "metadata": {},
   "source": [
    "Ouliers are found to be values of Serum Creatinine above the 2.1 mark"
   ]
  },
  {
   "cell_type": "code",
   "execution_count": 61,
   "id": "a1f1eac2",
   "metadata": {},
   "outputs": [],
   "source": [
    "# Removing ouliers from of Serum Creatinine from the data frame\n",
    "\n",
    "df=df[df['serum_creatinine']<2.1]"
   ]
  },
  {
   "cell_type": "markdown",
   "id": "1f59133a",
   "metadata": {},
   "source": [
    "Now, let us look at how the serum creatinine varies now"
   ]
  },
  {
   "cell_type": "code",
   "execution_count": 62,
   "id": "ca1f256f",
   "metadata": {},
   "outputs": [
    {
     "data": {
      "text/plain": [
       "<AxesSubplot:xlabel='DEATH_EVENT', ylabel='serum_creatinine'>"
      ]
     },
     "execution_count": 62,
     "metadata": {},
     "output_type": "execute_result"
    },
    {
     "data": {
      "image/png": "[encoded data removed]",
      "text/plain": [
       "<Figure size 288x576 with 1 Axes>"
      ]
     },
     "metadata": {
      "needs_background": "light"
     },
     "output_type": "display_data"
    }
   ],
   "source": [
    "# Plotting a Box plot of the levels of Serum Creatinine between people who were censored and those died from heart filure \n",
    "# after removing outliers\n",
    "\n",
    "plt.figure(figsize=(4,8))\n",
    "sns.boxplot(data=df, x='DEATH_EVENT', y='serum_creatinine')"
   ]
  },
  {
   "cell_type": "code",
   "execution_count": 63,
   "id": "b1a66028",
   "metadata": {},
   "outputs": [
    {
     "data": {
      "image/png": "[encoded data removed]",
      "text/plain": [
       "<Figure size 432x288 with 1 Axes>"
      ]
     },
     "metadata": {
      "needs_background": "light"
     },
     "output_type": "display_data"
    }
   ],
   "source": [
    "# Code to visualise the distribution of Gender \n",
    "\n",
    "ax=sns.countplot(data=df, x='sex')\n",
    "ax.set_title('Classification of gender', fontsize=20)\n",
    "for p in ax.patches:\n",
    "    ax.annotate(f'\\n{p.get_height()}', (p.get_x()+0.2, p.get_height()),\n",
    "                ha='center', va='top', color='white', size=18)\n",
    "plt.show()"
   ]
  },
  {
   "cell_type": "markdown",
   "id": "a75ca400",
   "metadata": {},
   "source": [
    "#### Men are twice as much as Women. This dataset is thus more biased towards men. "
   ]
  },
  {
   "cell_type": "markdown",
   "id": "82594cde",
   "metadata": {},
   "source": [
    "### Now, let us move on to Ejection Fraction"
   ]
  },
  {
   "cell_type": "code",
   "execution_count": 64,
   "id": "42579430",
   "metadata": {},
   "outputs": [
    {
     "data": {
      "text/plain": [
       "array([20, 38, 15, 60, 65, 25, 30, 50, 14, 55, 35, 40, 45, 80, 17, 62],\n",
       "      dtype=int64)"
      ]
     },
     "execution_count": 64,
     "metadata": {},
     "output_type": "execute_result"
    }
   ],
   "source": [
    "# finding the unique values of ejection fraction \n",
    "\n",
    "df['ejection_fraction'].unique()"
   ]
  },
  {
   "cell_type": "code",
   "execution_count": 65,
   "id": "47063aca",
   "metadata": {
    "scrolled": true
   },
   "outputs": [
    {
     "data": {
      "text/plain": [
       "<AxesSubplot:xlabel='DEATH_EVENT', ylabel='ejection_fraction'>"
      ]
     },
     "execution_count": 65,
     "metadata": {},
     "output_type": "execute_result"
    },
    {
     "data": {
      "image/png": "[encoded data removed]",
      "text/plain": [
       "<Figure size 864x288 with 1 Axes>"
      ]
     },
     "metadata": {
      "needs_background": "light"
     },
     "output_type": "display_data"
    }
   ],
   "source": [
    "# Plotting a Box plot of ejection fraction between people who were censored and those died from heart filure \n",
    "\n",
    "plt.figure(figsize=(12,4))\n",
    "sns.boxplot(data=df, x='DEATH_EVENT', y='ejection_fraction')"
   ]
  },
  {
   "cell_type": "markdown",
   "id": "7ad25853",
   "metadata": {},
   "source": [
    " Ejection fraction, which is the percentage of blood leaving the heart from a contraction, is higher in healthy patients than in unhealthy patients. Reviewing the  https://doi.org/10.1093/oxfordjournals.eurheartj.a061916, the normal range is 52.3±6.2%. This one super-efficient heart is pumping out 80% of the blood, which is much higher than even the 95-percentile value of %. Let's remove this outlier."
   ]
  },
  {
   "cell_type": "code",
   "execution_count": 66,
   "id": "40f15c46",
   "metadata": {
    "scrolled": true
   },
   "outputs": [],
   "source": [
    "# Removing outliers based on the medical joural. \n",
    "\n",
    "df=df[df['ejection_fraction']<70]"
   ]
  },
  {
   "cell_type": "code",
   "execution_count": 67,
   "id": "5a755745",
   "metadata": {},
   "outputs": [
    {
     "data": {
      "image/png": "[encoded data removed]",
      "text/plain": [
       "<Figure size 432x288 with 1 Axes>"
      ]
     },
     "metadata": {
      "needs_background": "light"
     },
     "output_type": "display_data"
    }
   ],
   "source": [
    "# Code to visualise the distribution of Gender after reomving ejection fraaction ouliers  \n",
    "\n",
    "ax=sns.countplot(data=df, x='sex')\n",
    "ax.set_title('Classification of gender', fontsize=20)\n",
    "for p in ax.patches:\n",
    "    ax.annotate(f'\\n{p.get_height()}', (p.get_x()+0.2, p.get_height()),\n",
    "                ha='center', va='top', color='white', size=18)\n",
    "plt.show()"
   ]
  },
  {
   "cell_type": "markdown",
   "id": "e42073da",
   "metadata": {},
   "source": [
    "Not a big change is seen as there was only one outlier"
   ]
  },
  {
   "cell_type": "markdown",
   "id": "e39019d6",
   "metadata": {},
   "source": [
    "### Now, lets dig deep into Platelets"
   ]
  },
  {
   "cell_type": "code",
   "execution_count": 68,
   "id": "6a7444ea",
   "metadata": {},
   "outputs": [
    {
     "data": {
      "text/plain": [
       "380500.0000000001"
      ]
     },
     "execution_count": 68,
     "metadata": {},
     "output_type": "execute_result"
    }
   ],
   "source": [
    "# This Code outputs 90th percentile value of Platelets\n",
    "\n",
    "np.percentile(df['platelets'],90)"
   ]
  },
  {
   "cell_type": "code",
   "execution_count": 69,
   "id": "f8617461",
   "metadata": {},
   "outputs": [
    {
     "data": {
      "text/plain": [
       "453375.0"
      ]
     },
     "execution_count": 69,
     "metadata": {},
     "output_type": "execute_result"
    }
   ],
   "source": [
    "# Outliers are value of Serum Creatinine above 1.5 times the 75th percentile value of Platelets\n",
    "# This Code outputs 1.5* 75th percentile value of platelets\n",
    "\n",
    "1.5*np.percentile(df['platelets'],75)"
   ]
  },
  {
   "cell_type": "markdown",
   "id": "4e7f9b47",
   "metadata": {},
   "source": [
    " The normal laboratory reference range for platelets is 150–450k/mL according to https://cks.nice.org.uk/topics/platelets-abnormal-counts-cancer/references/ but can go upto 1000k/ mL for some people. Thus these CANNOT be considered outliers"
   ]
  },
  {
   "cell_type": "markdown",
   "id": "3faf050e",
   "metadata": {},
   "source": [
    "### Finally, let us move on to Creatinine Phosphokinase"
   ]
  },
  {
   "cell_type": "code",
   "execution_count": 70,
   "id": "da8d251c",
   "metadata": {},
   "outputs": [
    {
     "data": {
      "text/plain": [
       "1208.3000000000002"
      ]
     },
     "execution_count": 70,
     "metadata": {},
     "output_type": "execute_result"
    }
   ],
   "source": [
    "# This Code outputs 90th percentile value of Creatinine hosphokinase\n",
    "\n",
    "np.percentile(df['creatinine_phosphokinase'],90)"
   ]
  },
  {
   "cell_type": "code",
   "execution_count": 71,
   "id": "98af3815",
   "metadata": {
    "scrolled": true
   },
   "outputs": [
    {
     "data": {
      "text/plain": [
       "582.0"
      ]
     },
     "execution_count": 71,
     "metadata": {},
     "output_type": "execute_result"
    }
   ],
   "source": [
    "# This Code outputs 1.5* 75th percentile value of platelets\n",
    "\n",
    "np.percentile(df['creatinine_phosphokinase'],75)"
   ]
  },
  {
   "cell_type": "markdown",
   "id": "06e21557",
   "metadata": {},
   "source": [
    "According to https://www.hindawi.com/journals/crim/2015/769576/, the values for CPK enzymes can go upto 12000 mcg/L and thus these values are not outliers"
   ]
  },
  {
   "cell_type": "markdown",
   "id": "6ca9f9e4",
   "metadata": {},
   "source": [
    "  "
   ]
  },
  {
   "cell_type": "markdown",
   "id": "e8f3454f",
   "metadata": {},
   "source": [
    "## EDA"
   ]
  },
  {
   "cell_type": "markdown",
   "id": "807d5cce",
   "metadata": {},
   "source": [
    "###### Let us now look at how the variables are correlated to DEATH_EVENT"
   ]
  },
  {
   "cell_type": "code",
   "execution_count": 72,
   "id": "21493f8b",
   "metadata": {
    "scrolled": true
   },
   "outputs": [
    {
     "data": {
      "text/plain": [
       "ejection_fraction          -0.296759\n",
       "serum_sodium               -0.149458\n",
       "platelets                  -0.029839\n",
       "diabetes                   -0.013905\n",
       "smoking                     0.005076\n",
       "sex                         0.032734\n",
       "high_blood_pressure         0.057806\n",
       "anaemia                     0.073340\n",
       "creatinine_phosphokinase    0.082591\n",
       "age                         0.253315\n",
       "serum_creatinine            0.361059\n",
       "Name: DEATH_EVENT, dtype: float64"
      ]
     },
     "execution_count": 72,
     "metadata": {},
     "output_type": "execute_result"
    }
   ],
   "source": [
    "# code to find the correlation of each variable with DEATH_EVENT\n",
    "\n",
    "df.corr()['DEATH_EVENT'].drop('DEATH_EVENT').sort_values()"
   ]
  },
  {
   "cell_type": "code",
   "execution_count": 73,
   "id": "be9eacaf",
   "metadata": {
    "scrolled": false
   },
   "outputs": [
    {
     "data": {
      "text/plain": [
       "<AxesSubplot:>"
      ]
     },
     "execution_count": 73,
     "metadata": {},
     "output_type": "execute_result"
    },
    {
     "data": {
      "image/png": "[encoded data removed]",
      "text/plain": [
       "<Figure size 432x288 with 1 Axes>"
      ]
     },
     "metadata": {
      "needs_background": "light"
     },
     "output_type": "display_data"
    }
   ],
   "source": [
    "# Visualising the correlation of each variable with DEATH_EVENT\n",
    "\n",
    "df.corr()['DEATH_EVENT'].drop('DEATH_EVENT').sort_values().plot(kind='bar')"
   ]
  },
  {
   "cell_type": "markdown",
   "id": "ccf9b97e",
   "metadata": {},
   "source": [
    "##### We can clearly see that Serum Creatinine, Age, serum_sodium and Ejection Fraction affect the death. To get a even clear understanding of how much correlation is present, let us numerically find the correlation of the features with Death. "
   ]
  },
  {
   "cell_type": "markdown",
   "id": "7328f0c6",
   "metadata": {},
   "source": [
    "  "
   ]
  },
  {
   "cell_type": "code",
   "execution_count": 74,
   "id": "e368191c",
   "metadata": {},
   "outputs": [
    {
     "data": {
      "text/plain": [
       "diabetes                   -0.151488\n",
       "ejection_fraction          -0.120534\n",
       "anaemia                    -0.118301\n",
       "platelets                  -0.110980\n",
       "high_blood_pressure        -0.109829\n",
       "serum_sodium               -0.025664\n",
       "DEATH_EVENT                 0.032734\n",
       "age                         0.037759\n",
       "serum_creatinine            0.082855\n",
       "creatinine_phosphokinase    0.101501\n",
       "smoking                     0.457609\n",
       "Name: sex, dtype: float64"
      ]
     },
     "execution_count": 74,
     "metadata": {},
     "output_type": "execute_result"
    }
   ],
   "source": [
    "#correlation of sex with other values\n",
    "df.corr()['sex'].drop('sex').sort_values()"
   ]
  },
  {
   "cell_type": "markdown",
   "id": "59259851",
   "metadata": {},
   "source": [
    "Only smoking is highly correlated with sex"
   ]
  },
  {
   "cell_type": "markdown",
   "id": "8919165d",
   "metadata": {},
   "source": [
    "  "
   ]
  },
  {
   "cell_type": "code",
   "execution_count": 75,
   "id": "51cde715",
   "metadata": {},
   "outputs": [
    {
     "data": {
      "image/png": "[encoded data removed]",
      "text/plain": [
       "<Figure size 432x288 with 1 Axes>"
      ]
     },
     "metadata": {
      "needs_background": "light"
     },
     "output_type": "display_data"
    }
   ],
   "source": [
    "# Code to visualise the distribution of Gender after reomving all ouliers  \n",
    "\n",
    "ax=sns.countplot(data=df, x='sex')\n",
    "ax.set_title('Classification of gender', fontsize=20)\n",
    "for p in ax.patches:\n",
    "    ax.annotate(f'\\n{p.get_height()}', (p.get_x()+0.2, p.get_height()),\n",
    "                ha='center', va='top', color='white', size=18)\n",
    "plt.show()"
   ]
  },
  {
   "cell_type": "markdown",
   "id": "6c086b2a",
   "metadata": {},
   "source": [
    "#### For unbiased analysis, the data is now classified into Male and female dataframes to perform the analysis of whether Gender plays a role by finding out the percentages of deaths in each data frame"
   ]
  },
  {
   "cell_type": "code",
   "execution_count": 76,
   "id": "663e550f",
   "metadata": {},
   "outputs": [],
   "source": [
    "dff=df[df['sex']==0] # dataframe of females\n",
    "dfm=df[df['sex']==1] # dataframe of males\n",
    "\n",
    "dfd=df[df['DEATH_EVENT']==1] # Dataframe containing only the people who died\n",
    "dffd=dff[dff['DEATH_EVENT']==1] #Dataframe containing only the females who died\n",
    "dfmd=dfm[dfm['DEATH_EVENT']==1] #Dataframe containing only the males who died"
   ]
  },
  {
   "cell_type": "code",
   "execution_count": 77,
   "id": "44966efa",
   "metadata": {},
   "outputs": [
    {
     "data": {
      "text/plain": [
       "26.373626373626376"
      ]
     },
     "execution_count": 77,
     "metadata": {},
     "output_type": "execute_result"
    }
   ],
   "source": [
    " # Percentage of females who died due to heart failure to the total number of females  \n",
    "females= (dffd['DEATH_EVENT']==1).count()/dff['DEATH_EVENT'].count()*100\n",
    "(dffd['DEATH_EVENT']==1).count()/dff['DEATH_EVENT'].count()*100"
   ]
  },
  {
   "cell_type": "code",
   "execution_count": 78,
   "id": "cd80506f",
   "metadata": {},
   "outputs": [
    {
     "data": {
      "text/plain": [
       "29.47976878612717"
      ]
     },
     "execution_count": 78,
     "metadata": {},
     "output_type": "execute_result"
    }
   ],
   "source": [
    " # Percentage of males who died due to heart failure to the total number of females  \n",
    "males=(dfmd['DEATH_EVENT']==1).count()/dfm['DEATH_EVENT'].count()*100\n",
    "(dfmd['DEATH_EVENT']==1).count()/dfm['DEATH_EVENT'].count()*100"
   ]
  },
  {
   "cell_type": "code",
   "execution_count": 79,
   "id": "29ae817e",
   "metadata": {},
   "outputs": [],
   "source": [
    "# Visualisation of gender as a bar plot\n",
    "def variation_of_gender_with():\n",
    "    \n",
    "    # casting percentage of males and females in a dictionary\n",
    "    dict_of_gender = { 'Female': females, 'Male':males } \n",
    "    keys = list(dict_of_gender.keys())\n",
    "    values = list(dict_of_gender.values())\n",
    "    ax= sns.barplot(x=keys, y=values)\n",
    "    ax.set_title('Chances of death from heart failure', fontsize=20)\n",
    "    for p in ax.patches:\n",
    "        ax.annotate(f'\\n{p.get_height().round(2)}', (p.get_x()+0.2, p.get_height()),\n",
    "                    ha='center', va='top', color='white', size=18)\n",
    "    plt.show()\n"
   ]
  },
  {
   "cell_type": "markdown",
   "id": "e8578253",
   "metadata": {},
   "source": [
    "     "
   ]
  },
  {
   "cell_type": "markdown",
   "id": "381e3c52",
   "metadata": {},
   "source": [
    "## 2. What condition was most prevalent  in women who died of heart failure ?"
   ]
  },
  {
   "cell_type": "markdown",
   "id": "84c3e79f",
   "metadata": {},
   "source": [
    "### Let us first start with females with high blood pressure"
   ]
  },
  {
   "cell_type": "code",
   "execution_count": 80,
   "id": "8ce66e78",
   "metadata": {},
   "outputs": [],
   "source": [
    " #dataframe of females with high blood pressure who had died \n",
    "dffh=dffd[(dffd['high_blood_pressure']==1)]\n"
   ]
  },
  {
   "cell_type": "code",
   "execution_count": 81,
   "id": "de994cd4",
   "metadata": {},
   "outputs": [
    {
     "data": {
      "text/plain": [
       "54.166666666666664"
      ]
     },
     "execution_count": 81,
     "metadata": {},
     "output_type": "execute_result"
    }
   ],
   "source": [
    "# Percentage of females with high blood pressure who had died \n",
    "f_with_high_bp= dffh['sex'].count()/dffd['sex'].count()*100\n",
    "dffh['sex'].count()/dffd['sex'].count()*100"
   ]
  },
  {
   "cell_type": "markdown",
   "id": "050560ac",
   "metadata": {},
   "source": [
    "#### A massive 54% of women with prevailing High-blood pressure had died. "
   ]
  },
  {
   "cell_type": "markdown",
   "id": "76e22df0",
   "metadata": {},
   "source": [
    "### Now,  Let us move onto females who suffer from Diabetes"
   ]
  },
  {
   "cell_type": "code",
   "execution_count": 82,
   "id": "67fd0c6c",
   "metadata": {},
   "outputs": [],
   "source": [
    "#dataframe of females with diabetes who had died \n",
    "dffs=dffd[(dffd['diabetes']==1)]\n"
   ]
  },
  {
   "cell_type": "code",
   "execution_count": 83,
   "id": "031b5e43",
   "metadata": {},
   "outputs": [
    {
     "data": {
      "text/plain": [
       "54.166666666666664"
      ]
     },
     "execution_count": 83,
     "metadata": {},
     "output_type": "execute_result"
    }
   ],
   "source": [
    "# Percentage of females with diabetes who had died \n",
    "f_with_diabetes=dffs['sex'].count()/dffd['sex'].count()*100\n",
    "dffs['sex'].count()/dffd['sex'].count()*100"
   ]
  },
  {
   "cell_type": "markdown",
   "id": "dfb03de6",
   "metadata": {},
   "source": [
    "#### Surprisingly, female patients who had prevailing diabetes have the same mortality rate as female patients who had high blood pressure with 54%"
   ]
  },
  {
   "cell_type": "markdown",
   "id": "ee8151e8",
   "metadata": {},
   "source": [
    "### Females with Anaemia are now our focus"
   ]
  },
  {
   "cell_type": "code",
   "execution_count": 84,
   "id": "fd1ccc00",
   "metadata": {},
   "outputs": [],
   "source": [
    "#dataframe of females with Anaemia who had died \n",
    "dffa=dffd[(dffd['anaemia']==1)]"
   ]
  },
  {
   "cell_type": "code",
   "execution_count": 85,
   "id": "c471df50",
   "metadata": {},
   "outputs": [
    {
     "data": {
      "text/plain": [
       "17.582417582417584"
      ]
     },
     "execution_count": 85,
     "metadata": {},
     "output_type": "execute_result"
    }
   ],
   "source": [
    "# Percentage of females with Anaemia who had died \n",
    "females_with_anaemia=dffa['sex'].count()/dff['sex'].count()*100\n",
    "dffa['sex'].count()/dff['sex'].count()*100\n"
   ]
  },
  {
   "cell_type": "markdown",
   "id": "0829ca94",
   "metadata": {},
   "source": [
    "#### Only 17.5% of amaemic patients died from heart failure"
   ]
  },
  {
   "cell_type": "markdown",
   "id": "2781dd8a",
   "metadata": {},
   "source": [
    "### It is now time to move onto analysing about Serum Creatinine which gives us a measure of out Kidney's functioning"
   ]
  },
  {
   "cell_type": "code",
   "execution_count": 86,
   "id": "936b17d5",
   "metadata": {},
   "outputs": [],
   "source": [
    "#dataframe of females with more than normal levels of Serum Creatinine \n",
    "dffsc=(dffd[dffd['serum_creatinine']>=1.3])\n"
   ]
  },
  {
   "cell_type": "code",
   "execution_count": 87,
   "id": "cf4b54af",
   "metadata": {},
   "outputs": [
    {
     "data": {
      "text/plain": [
       "50.0"
      ]
     },
     "execution_count": 87,
     "metadata": {},
     "output_type": "execute_result"
    }
   ],
   "source": [
    "# Percentage of females with more than normal levels of Serum Creatinine \n",
    "# NOT in the normal range of 0.6-1.3\n",
    "f_with_serum=dffsc['serum_creatinine'].count()/(dffd['serum_creatinine'].count())*100\n",
    "dffsc['serum_creatinine'].count()/(dffd['serum_creatinine'].count())*100"
   ]
  },
  {
   "cell_type": "markdown",
   "id": "1d0975fd",
   "metadata": {},
   "source": [
    "#### Almost half of the females who had Abnormal levels of Serum Creatinine as per https://doi.org/10.1100/2012/186495 died from Heart failure"
   ]
  },
  {
   "cell_type": "markdown",
   "id": "9496048c",
   "metadata": {},
   "source": [
    "### Let us shift out focus to females with abnormal platelet count"
   ]
  },
  {
   "cell_type": "code",
   "execution_count": 88,
   "id": "432285a5",
   "metadata": {},
   "outputs": [],
   "source": [
    "#dataframe of females with abnormal Platelet count\n",
    "dffp=(dffd[(dffd['platelets']>=450000)|(dffd['platelets']<=150000)])"
   ]
  },
  {
   "cell_type": "code",
   "execution_count": 89,
   "id": "f252fbcc",
   "metadata": {},
   "outputs": [
    {
     "data": {
      "text/plain": [
       "16.666666666666664"
      ]
     },
     "execution_count": 89,
     "metadata": {},
     "output_type": "execute_result"
    }
   ],
   "source": [
    "# Percentage of females with with abnormal Platelet count\n",
    "f_with_platelets=dffp['platelets'].count()/(dffd['platelets'].count())*100\n",
    "dffp['platelets'].count()/(dffd['platelets'].count())*100"
   ]
  },
  {
   "cell_type": "markdown",
   "id": "204942a0",
   "metadata": {},
   "source": [
    "#### 16% of females with abnormal platelet count as per  https://cks.nice.org.uk/topics/platelets-abnormal-counts-cancer/references/ died from heart failure "
   ]
  },
  {
   "cell_type": "markdown",
   "id": "bff2bb1d",
   "metadata": {},
   "source": [
    "### It is now time to analyse females with poor Ejection Fraction"
   ]
  },
  {
   "cell_type": "code",
   "execution_count": 90,
   "id": "63423de7",
   "metadata": {},
   "outputs": [],
   "source": [
    "#dataframe of females with abnormal Ejection Fraction\n",
    "dffe=(dffd[(dffd['ejection_fraction']>=60)|(dffd['ejection_fraction']<45)])"
   ]
  },
  {
   "cell_type": "code",
   "execution_count": 91,
   "id": "9c50f508",
   "metadata": {},
   "outputs": [
    {
     "data": {
      "text/plain": [
       "83.33333333333334"
      ]
     },
     "execution_count": 91,
     "metadata": {},
     "output_type": "execute_result"
    }
   ],
   "source": [
    "# Percentage of females with with abnormal Ejection Fraction \n",
    "f_with_ejection=dffe['ejection_fraction'].count()/(dffd['platelets'].count())*100\n",
    "dffe['ejection_fraction'].count()/(dffd['platelets'].count())*100"
   ]
  },
  {
   "cell_type": "markdown",
   "id": "2e85256c",
   "metadata": {},
   "source": [
    "#### As we guessed from the definition of ejection fraction,it plays the most vital role in heart failure.  "
   ]
  },
  {
   "cell_type": "markdown",
   "id": "2a4a0b4b",
   "metadata": {},
   "source": [
    "### Finally, we get to analyse about females with abnormal Serum Sodium levels"
   ]
  },
  {
   "cell_type": "code",
   "execution_count": 92,
   "id": "e4a595b3",
   "metadata": {},
   "outputs": [],
   "source": [
    "#dataframe of females with abnormal Serum Sodium\n",
    "dffss=(dffd[(dffd['serum_sodium']>=145)|(dffd['serum_sodium']<135)])"
   ]
  },
  {
   "cell_type": "code",
   "execution_count": 93,
   "id": "cc5cee03",
   "metadata": {},
   "outputs": [
    {
     "data": {
      "text/plain": [
       "37.5"
      ]
     },
     "execution_count": 93,
     "metadata": {},
     "output_type": "execute_result"
    }
   ],
   "source": [
    "# Percentage of females with Serum Sodium\n",
    "f_with_sodium=dffss['serum_sodium'].count()/(dffd['serum_sodium'].count())*100\n",
    "dffss['serum_sodium'].count()/(dffd['serum_sodium'].count())*100"
   ]
  },
  {
   "cell_type": "markdown",
   "id": "9c6dfd55",
   "metadata": {},
   "source": [
    "### 37.5% of females with abnormal Serum Sodium levels as per https://journals.lww.com/nursing/Abstract/2007/12000/How_to_respond_to_abnormal_serum_sodium_levels.46.aspx#:~:text=Hypernatremia%2C%20less%20common%20than%20hyponatremia,mEq%2FL%20can%20be%20fatal die from heart failures"
   ]
  },
  {
   "cell_type": "code",
   "execution_count": 94,
   "id": "33379271",
   "metadata": {},
   "outputs": [],
   "source": [
    "def cause_of_deaths_in_women():\n",
    "    \n",
    "    #Creating a dictionary to store values of females with abnormal conditions\n",
    "    prevalent_dis= {'Anemia': females_with_anaemia.round(), \n",
    "                    'Diabetes': f_with_diabetes.round(), \n",
    "                    'Platelet': f_with_platelets.round(),\n",
    "                    'High BP': f_with_high_bp.round(),\n",
    "                    'SC': f_with_serum.round(),#Serum Creatinine\n",
    "                    'EF':f_with_ejection.round(), #Ejection Fraction\n",
    "                    'Sodium':f_with_sodium.round(),#Serum Sodium\n",
    "                   }\n",
    "    # The folllowing code is used to create a bar plot to visualise \n",
    "    # the effects of existing conditions causing death to women\n",
    "    # with Heart failure\n",
    "\n",
    "    names = list(prevalent_dis.keys()) # creating a list of all the keys from the prevalent diseases dictionary \n",
    "    values = list(prevalent_dis.values()) # creating a list of all the values from the prevalent diseases dictionary \n",
    "\n",
    "    ax1=sns.barplot(x=names, y=values) # storing the bar plot in a new varible \n",
    "\n",
    "    ax1.set_title('Classification of abnormal conditions leading to deaths', fontsize=20)\n",
    "    for p in ax1.patches:\n",
    "        ax1.annotate(f'\\n{p.get_height()}', (p.get_x()+0.2, p.get_height()), ha='left', va='top', color='white', size=15)\n",
    "\n",
    "    plt.figure(figsize=(16,16))\n",
    "    plt.tight_layout()\n",
    "    plt.show()\n",
    "\n",
    "    \n",
    "    \n",
    "    \n"
   ]
  },
  {
   "cell_type": "markdown",
   "id": "87bd22c6",
   "metadata": {},
   "source": [
    "### From the bar chart above, Ejection Fraction plays the most important role in causing deaths amongst female with Heart Failure. Next comes, Diabetes anad High BP, responsible for 54% of deaths in female because of Heart failure."
   ]
  },
  {
   "cell_type": "markdown",
   "id": "a08408af",
   "metadata": {},
   "source": [
    "   "
   ]
  },
  {
   "cell_type": "markdown",
   "id": "13a17eb0",
   "metadata": {},
   "source": [
    "## 3. Who is more prone to deaths caused by heart failure: Smokers or Non-Smokers?"
   ]
  },
  {
   "cell_type": "code",
   "execution_count": 95,
   "id": "927de56c",
   "metadata": {},
   "outputs": [],
   "source": [
    "# Number of smokers who had died from Heart Failure\n",
    "smokers= df[(df['smoking']==1)&(df['DEATH_EVENT']==1)].count()/(df[(df['smoking']==1)&(df['DEATH_EVENT']==1)].count()+\n",
    "                                                                df[(df['smoking']==1)&(df['DEATH_EVENT']==0)].count())\n",
    "no_of_somkers= smokers['DEATH_EVENT']*100"
   ]
  },
  {
   "cell_type": "code",
   "execution_count": 96,
   "id": "d6288dac",
   "metadata": {},
   "outputs": [
    {
     "data": {
      "text/plain": [
       "28.24858757062147"
      ]
     },
     "execution_count": 96,
     "metadata": {},
     "output_type": "execute_result"
    }
   ],
   "source": [
    "# Number of non-smokers who had died from Heart Failure\n",
    "nonsmokers= df[(df['smoking']==0)&(df['DEATH_EVENT']==1)].count()/(df[(df['smoking']==0)&(df['DEATH_EVENT']==1)].count()+\n",
    "                                                                   df[(df['smoking']==0)&(df['DEATH_EVENT']==0)].count())\n",
    "no_of_nonsomkers= nonsmokers['DEATH_EVENT']*100\n",
    "no_of_nonsomkers"
   ]
  },
  {
   "cell_type": "code",
   "execution_count": 97,
   "id": "6d8e573e",
   "metadata": {},
   "outputs": [],
   "source": [
    "def does_smoking_affect_death():\n",
    "    #Creating a dictionary to store values of smokers and non-smokers\n",
    "    smoker_dis= {'Smokers': no_of_somkers.round(), 'Non-smokers': no_of_nonsomkers.round()}\n",
    "\n",
    "    # The folllowing code is used to create a bar plot to visualise \n",
    "    # the effects of smoking in causing deaths to \n",
    "    # people with Heart failure\n",
    "    names = list(smoker_dis.keys())\n",
    "    values = list(smoker_dis.values())\n",
    "\n",
    "    ax2=sns.barplot(x=names, y=values)\n",
    "\n",
    "    ax2.set_title('Classification of abnormal conditions leading to deaths', fontsize=20)\n",
    "    for p in ax2.patches:\n",
    "        ax2.annotate(f'\\n{p.get_height()}', (p.get_x()+0.2, p.get_height()),\n",
    "                     ha='left', va='top', color='white', size=15)\n",
    "\n",
    "    plt.figure(figsize=(16,16))\n",
    "    plt.tight_layout()\n",
    "    plt.show()"
   ]
  },
  {
   "cell_type": "markdown",
   "id": "37777469",
   "metadata": {},
   "source": [
    "### Great news to all the smokers!! \n",
    "### People who don't smoke are as likely as people who do to die from heart failure"
   ]
  },
  {
   "cell_type": "markdown",
   "id": "027a1503",
   "metadata": {},
   "source": [
    "  "
   ]
  },
  {
   "cell_type": "markdown",
   "id": "eb7e73c6",
   "metadata": {},
   "source": [
    "## Project Outcome (10 + 10 marks)"
   ]
  },
  {
   "cell_type": "markdown",
   "id": "315d39ab",
   "metadata": {},
   "source": [
    "## Overview of Results\n"
   ]
  },
  {
   "cell_type": "markdown",
   "id": "37917a21",
   "metadata": {},
   "source": [
    "The results obtained were surprising and obvious. From what was taught in school, men are \n",
    "supposed to have better cardiovascular strength than women because of their high-testosterone levels but the results\n",
    "obtained does not back that. The correlation value of gender with death tells us otherwise. Further analysis did not aid the intuition either. Because of the small size of the data set, it is concluded that both men and women are equally prone. The results for the second objective were quite obvious. Ejection fraction is a value calculated by the rate at which the heart pumps out blood. It is commonsense that abnormal ejection fraction would be the most prevalent condition in women(here). The aim of the final objective was a long-standing question amongst all of us is good news, to smokers, of course. Deaths due to heart failure is independent of the smoking habits in a person. Overall, the analysis has answered all the objectives but cannot be taken to be the blind truth considering the small size of the data set."
   ]
  },
  {
   "cell_type": "markdown",
   "id": "d41e7a55",
   "metadata": {},
   "source": [
    "### Objective 1\n"
   ]
  },
  {
   "cell_type": "markdown",
   "id": "0d96ccfa",
   "metadata": {},
   "source": [
    "### 1. Does gender play a role in the deaths caused by heart failure?\n"
   ]
  },
  {
   "cell_type": "markdown",
   "id": "c5c6838f",
   "metadata": {},
   "source": [
    "#### Explanation of Results"
   ]
  },
  {
   "cell_type": "markdown",
   "id": "20192dff",
   "metadata": {},
   "source": [
    "Men are as likely to die from heart failure as women neglecting the 3% difference considering the dataset's size. The answer obtained is unbiased as the analysis performed is on separate male and female datasets. Our first glance at the data revealed that the dataset is biased towards males. The number of females was only half as much as the number of males. This bias made us separate the data sets.  It was clear that any results we obtain from this dataset will not be accurate and will be leaning towards more deaths to males because of their large numbers. The gender datasets were further divided into deaths and non-deaths as we needed the count of non-deaths to deaths in each gender.  This analysis considers gender as an independent criterion without any correlation to other deadly conditions. The only correlated variable with 'sex' was 'smoking' which is not fatal(spoiler alert!) with any prevailing conditions with gender is not considered. The independent analysis concludes that men and women are equally probable to die from heart failure. \n"
   ]
  },
  {
   "cell_type": "markdown",
   "id": "ceb8e115",
   "metadata": {},
   "source": [
    "### Visualisation"
   ]
  },
  {
   "cell_type": "markdown",
   "id": "222c9747",
   "metadata": {},
   "source": [
    "The following bar chart shows the probability of deaths from heart failure based on gender  "
   ]
  },
  {
   "cell_type": "code",
   "execution_count": 98,
   "id": "4e37bb9f",
   "metadata": {},
   "outputs": [
    {
     "data": {
      "image/png": "[encoded data removed]",
      "text/plain": [
       "<Figure size 432x288 with 1 Axes>"
      ]
     },
     "metadata": {
      "needs_background": "light"
     },
     "output_type": "display_data"
    }
   ],
   "source": [
    "variation_of_gender_with()"
   ]
  },
  {
   "cell_type": "markdown",
   "id": "d8965b32",
   "metadata": {},
   "source": [
    "### 2. What condition was most prevalent in women who died of heart failure ?\n"
   ]
  },
  {
   "cell_type": "markdown",
   "id": "0621d669",
   "metadata": {},
   "source": [
    "#### Explanation of Results\n",
    "\n",
    "Abnormal Ejection ratio(the percentage rate at which the heart pumps out blood) is the leading cause with a massive 83% chance of death when women have heart failure. This value is indicative of the performance of the heart and thus the results are obvious. The presence of diabetes, High blood pressure and abnormal Serum Creatinine increase the chances of death by more than half (exactly half for abnormal levels of Serum Creatine). This result is quite fascinating as two of the three conditions affect the bloodstream. Diabetes indicates high blood sugar level, high blood pressure, as the name suggests, indicates high pressure on the artery walls whose final destination is, wait for it, ..., yes, the heart. Serum creatine on the other hand gives information on the functioning of the kidney. A person with increased sodium levels(increased Serum Sodium) in the bloodstream has a 38% chance of death when he/she suffers from heart failure. The least fatal, yet fatal conditions are when a person is anaemic or has an abnormal platelet count( usual platelet count is between 150k and 450k) with about 17% leading to deaths. The common feature among all the conditions is the effect these conditions have on the bloodstream. It is indicative of the increasing stress the heart bears to pump blood. \n",
    "\n"
   ]
  },
  {
   "cell_type": "markdown",
   "id": "467d9716",
   "metadata": {},
   "source": [
    "### Visualisation"
   ]
  },
  {
   "cell_type": "markdown",
   "id": "0b303940",
   "metadata": {},
   "source": [
    "The following bar chart shows us by how each condition increases the chances of death in women"
   ]
  },
  {
   "cell_type": "code",
   "execution_count": 99,
   "id": "95855194",
   "metadata": {},
   "outputs": [
    {
     "data": {
      "image/png": "[encoded data removed]",
      "text/plain": [
       "<Figure size 432x288 with 1 Axes>"
      ]
     },
     "metadata": {
      "needs_background": "light"
     },
     "output_type": "display_data"
    },
    {
     "data": {
      "text/plain": [
       "<Figure size 1152x1152 with 0 Axes>"
      ]
     },
     "metadata": {},
     "output_type": "display_data"
    }
   ],
   "source": [
    "cause_of_deaths_in_women()"
   ]
  },
  {
   "cell_type": "markdown",
   "id": "9292a793",
   "metadata": {},
   "source": [
    "### 3. Who is more prone to deaths caused by heart failure: Smokers or Non-Smokers?\n"
   ]
  },
  {
   "cell_type": "markdown",
   "id": "f5dfa775",
   "metadata": {},
   "source": [
    "#### Explanation of Results\n",
    "\n",
    "\n"
   ]
  },
  {
   "cell_type": "markdown",
   "id": "38e8efd6",
   "metadata": {},
   "source": [
    "Smoking is one of the most deadly habit in the world with about 1.1 billion smokers as of 20119. It is the reason behind 78,000 deaths in the UK every year. It can be deadly in existence with other conditions. This objective's aims is to learn whether smoking can cause deaths due to heart failure. The answer to this is 'NO'. Yes, smokers and non-smokers are equally susceptible to death by heart failure. The answer obtained is unbiased as smokers and non-smokers have separate data sets.The percentage split of liklihood of death from heart failure is 29% to 28% in favour of smokers, which in the big picture is absolutely nothing. Although smoking may cause a lot of other health related problems, it does not not an effect on deaths. "
   ]
  },
  {
   "cell_type": "markdown",
   "id": "25002aa1",
   "metadata": {},
   "source": [
    "### Visualisation"
   ]
  },
  {
   "cell_type": "markdown",
   "id": "51938677",
   "metadata": {},
   "source": [
    "The bar chart below clearly shows that smoking has no effect on the deaths caused by heart failure"
   ]
  },
  {
   "cell_type": "code",
   "execution_count": 100,
   "id": "26627db9",
   "metadata": {},
   "outputs": [
    {
     "data": {
      "image/png": "[encoded data removed]",
      "text/plain": [
       "<Figure size 432x288 with 1 Axes>"
      ]
     },
     "metadata": {
      "needs_background": "light"
     },
     "output_type": "display_data"
    },
    {
     "data": {
      "text/plain": [
       "<Figure size 1152x1152 with 0 Axes>"
      ]
     },
     "metadata": {},
     "output_type": "display_data"
    }
   ],
   "source": [
    "does_smoking_affect_death()"
   ]
  },
  {
   "cell_type": "markdown",
   "id": "84fe8d32",
   "metadata": {},
   "source": [
    "## Conclusion (5 marks)"
   ]
  },
  {
   "cell_type": "markdown",
   "id": "3540ffab",
   "metadata": {},
   "source": [
    "### Achievements"
   ]
  },
  {
   "cell_type": "markdown",
   "id": "5ddd30ca",
   "metadata": {},
   "source": [
    "The results obtained from the analysis answers a lot of questions. Our intuitions regarding 'Men' as having superior cardiovascular strength was put to bed when we found out that both genders do not affect death. The conditions which proved to be most fatal to women were associated with the heart as we guessed. It was no surprise that as the blood thickens, the heart feels increasing stress and as a result, the prevalence of conditions affecting the bloodstream increases the chance of death when the patient has heart failure. The most surprising result was when we found out smoking does not expedite deaths. This was by far the star of the analysis and comes to our shock that not all bad habits cause deaths. Good news for 1.1 billion people indeed. "
   ]
  },
  {
   "cell_type": "markdown",
   "id": "ada98944",
   "metadata": {},
   "source": [
    "### Limitations"
   ]
  },
  {
   "cell_type": "markdown",
   "id": "3b98136a",
   "metadata": {},
   "source": [
    "There were several limitations to this project:\n",
    "1. The dataset contains values of only 299 patients which has been reduced to 264 after removing the outliers. This is not enough to make any conclusive decisions and thus the results obtained here cannot be extrapolated\n",
    "2. The outliers removed have been based on published medical journals. It is impossible to know if a patient in reality can have those values. \n",
    "3. The analysis on women were only made on 91 women which is a low number in order for the results to be generalisd\n",
    "4. Lastly, the data was obtained from a specific geographic location(Faisalabad, Pakistan). Unless we have eclectic data from different locations, the results can't be trusted as the conditons may/may not be fatal in that location  "
   ]
  },
  {
   "cell_type": "markdown",
   "id": "dd1cd967",
   "metadata": {},
   "source": [
    "### Future Work"
   ]
  },
  {
   "cell_type": "markdown",
   "id": "1f7978eb",
   "metadata": {},
   "source": [
    "In future, we would like to obtain data from a vast set of countries to make sure the findings can hold valid. We also have not considered the effect of multiple conditions in deaths as it is impossible to manually find the effect of each combination on death without modelling the data. "
   ]
  },
  {
   "cell_type": "markdown",
   "id": "350a69b9",
   "metadata": {},
   "source": [
    "# THANK YOU!!!!"
   ]
  }
 ],
 "metadata": {
  "kernelspec": {
   "display_name": "Python 3",
   "language": "python",
   "name": "python3"
  },
  "language_info": {
   "codemirror_mode": {
    "name": "ipython",
    "version": 3
   },
   "file_extension": ".py",
   "mimetype": "text/x-python",
   "name": "python",
   "nbconvert_exporter": "python",
   "pygments_lexer": "ipython3",
   "version": "3.8.8"
  }
 },
 "nbformat": 4,
 "nbformat_minor": 5
}
